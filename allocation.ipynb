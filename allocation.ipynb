{
 "cells": [
  {
   "cell_type": "markdown",
   "source": [
    "# Course Allocation to Students based on preference \\[only\\]\n",
    "This jupyter notebook uses the Hospital Resident Matching algorithm to allocate courses to students according to their preferences only. The time when they indicated their choices/preferences should not be taken into account. While this does not necessarily always return the most stable matching (since the courses do not have any preference for students), it still reaches close to the actual solution. The way we modify the Hospital Resident Matching algorithm is as follows:\n",
    "- We consider every student is equivalent to a resident having certain preferences for a subset of the hospitals.\n",
    "- We consider every course is equivalent to a hospital having a capacity and a preference for the residents (students).\n",
    "- Note that this preference of hospitals do not actually exist. We, therefore, synthetically create this ranking of students for a course based on the amount by which their score decreases (in decreasing order -- lower delta is ranked last) if they are removed unassigned from the given course. These students are further ranked by the current score they have (in increasing order -- highest score is ranked last)."
   ],
   "metadata": {
    "collapsed": false
   },
   "id": "d352ee0f07d668b"
  },
  {
   "cell_type": "code",
   "execution_count": 1,
   "id": "initial_id",
   "metadata": {
    "collapsed": true,
    "ExecuteTime": {
     "end_time": "2024-02-03T20:03:26.789768Z",
     "start_time": "2024-02-03T20:03:26.156675900Z"
    }
   },
   "outputs": [],
   "source": [
    "# Importing necessary libraries\n",
    "import alloc_structs\n",
    "import random\n",
    "import matplotlib.pyplot as plt\n",
    "import numpy as np\n",
    "import pandas as pd\n",
    "\n",
    "# The random seed ensures reproducible results\n",
    "seed = 92040706\n",
    "random.seed(seed)\n",
    "np.random.seed(seed)\n",
    "\n",
    "# Reading the input data files\n",
    "stud_data = pd.read_csv('data/students.csv', header=0)\n",
    "cour_data = pd.read_csv('data/courses.csv', header=0)\n",
    "\n",
    "max_courses = 6 # Maximum number of courses that may be allocated to a student\n",
    "max_epoch = 10000 # Maximum iterations of the Hospital Resident assignment"
   ]
  },
  {
   "cell_type": "markdown",
   "source": [
    "## Investigating the input data available\n",
    "### Student Data"
   ],
   "metadata": {
    "collapsed": false
   }
  },
  {
   "cell_type": "code",
   "execution_count": 2,
   "outputs": [
    {
     "data": {
      "text/plain": "     Roll No.             Name  Number of courses they wish to take  \\\n0    22510030     Demi Baldwin                                    3   \n1    22510221   Jaiden Wheeler                                    2   \n2    19520735      Sydney Khan                                    2   \n3    23520174   Kendrick Walsh                                    4   \n4    21510520     Leia Hendrix                                    3   \n..        ...              ...                                  ...   \n995  21510247   Shepherd Hanna                                    4   \n996  21520171  Cynthia Skinner                                    3   \n997  20110520     Ridge Walton                                    3   \n998  22110041  Scarlet Sanders                                    4   \n999  20510775       Jose Yates                                    1   \n\n                               First course preference  \\\n0          MA 603-Nonlinear Analysis with Applications   \n1                         ES 243-Biology for Engineers   \n2                           CL 628-Liquid State Theory   \n3                ES 623-Biomolecular Materials Science   \n4                    EH 614-Physics of the Lithosphere   \n..                                                 ...   \n995          HS 643-Indian and Western Cultural Theory   \n996               ME 636-Fuel Cell and Battery Systems   \n997              ME 321-Mechanics of Deformable Bodies   \n998  PH 607-Topics in Quantum and Statistical Mecha...   \n999             CE 636-Traffic and Roadway Engineering   \n\n                              Second course preference  \\\n0                ME 321-Mechanics of Deformable Bodies   \n1                    EH 614-Physics of the Lithosphere   \n2                         ES 243-Biology for Engineers   \n3    EH 617-Advanced Field Techniques in Earth Scie...   \n4         MSE 209-Material Thermodynamics and Kinetics   \n..                                                 ...   \n995         CL 221-Chemical Engineering Thermodynamics   \n996                         MA 605-Commutative Algebra   \n997               ME 636-Fuel Cell and Battery Systems   \n998        MA 603-Nonlinear Analysis with Applications   \n999                         CL 628-Liquid State Theory   \n\n                               Third course preference  \\\n0                           CL 628-Liquid State Theory   \n1                 ME 636-Fuel Cell and Battery Systems   \n2                                MS 404-Neuromarketing   \n3                         ES 243-Biology for Engineers   \n4    MSE 401-Introduction to Polymer Physics and Pr...   \n..                                                 ...   \n995               CL 604-Advanced Reaction Engineering   \n996                              CH 401-Food Chemistry   \n997         MSE 625-Thermodynamics of thin film growth   \n998          HS 643-Indian and Western Cultural Theory   \n999                                                NaN   \n\n                              Fourth course preference  \\\n0                MA 624-Partial Differential Equations   \n1                         MSE 310-Physics of Materials   \n2                 CL 604-Advanced Reaction Engineering   \n3              ES 415-Nature-inspired Materials Design   \n4          MA 603-Nonlinear Analysis with Applications   \n..                                                 ...   \n995  MSE 401-Introduction to Polymer Physics and Pr...   \n996                                                NaN   \n997                       MSE 310-Physics of Materials   \n998                       ES 243-Biology for Engineers   \n999                                                NaN   \n\n                               Fifth course preference  \\\n0              ES 415-Nature-inspired Materials Design   \n1                                                  NaN   \n2                                                  NaN   \n3                                                  NaN   \n4                         ES 243-Biology for Engineers   \n..                                                 ...   \n995                       ES 613-Modern Control Theory   \n996                                                NaN   \n997                                                NaN   \n998  MSE 401-Introduction to Polymer Physics and Pr...   \n999                                                NaN   \n\n                            Sixth course preference  \n0    HS 649-Public Policy and its Impact Evaluation  \n1                                               NaN  \n2                                               NaN  \n3                                               NaN  \n4                                               NaN  \n..                                              ...  \n995                    ES 243-Biology for Engineers  \n996                                             NaN  \n997                                             NaN  \n998  HS 649-Public Policy and its Impact Evaluation  \n999                                             NaN  \n\n[1000 rows x 9 columns]",
      "text/html": "<div>\n<style scoped>\n    .dataframe tbody tr th:only-of-type {\n        vertical-align: middle;\n    }\n\n    .dataframe tbody tr th {\n        vertical-align: top;\n    }\n\n    .dataframe thead th {\n        text-align: right;\n    }\n</style>\n<table border=\"1\" class=\"dataframe\">\n  <thead>\n    <tr style=\"text-align: right;\">\n      <th></th>\n      <th>Roll No.</th>\n      <th>Name</th>\n      <th>Number of courses they wish to take</th>\n      <th>First course preference</th>\n      <th>Second course preference</th>\n      <th>Third course preference</th>\n      <th>Fourth course preference</th>\n      <th>Fifth course preference</th>\n      <th>Sixth course preference</th>\n    </tr>\n  </thead>\n  <tbody>\n    <tr>\n      <th>0</th>\n      <td>22510030</td>\n      <td>Demi Baldwin</td>\n      <td>3</td>\n      <td>MA 603-Nonlinear Analysis with Applications</td>\n      <td>ME 321-Mechanics of Deformable Bodies</td>\n      <td>CL 628-Liquid State Theory</td>\n      <td>MA 624-Partial Differential Equations</td>\n      <td>ES 415-Nature-inspired Materials Design</td>\n      <td>HS 649-Public Policy and its Impact Evaluation</td>\n    </tr>\n    <tr>\n      <th>1</th>\n      <td>22510221</td>\n      <td>Jaiden Wheeler</td>\n      <td>2</td>\n      <td>ES 243-Biology for Engineers</td>\n      <td>EH 614-Physics of the Lithosphere</td>\n      <td>ME 636-Fuel Cell and Battery Systems</td>\n      <td>MSE 310-Physics of Materials</td>\n      <td>NaN</td>\n      <td>NaN</td>\n    </tr>\n    <tr>\n      <th>2</th>\n      <td>19520735</td>\n      <td>Sydney Khan</td>\n      <td>2</td>\n      <td>CL 628-Liquid State Theory</td>\n      <td>ES 243-Biology for Engineers</td>\n      <td>MS 404-Neuromarketing</td>\n      <td>CL 604-Advanced Reaction Engineering</td>\n      <td>NaN</td>\n      <td>NaN</td>\n    </tr>\n    <tr>\n      <th>3</th>\n      <td>23520174</td>\n      <td>Kendrick Walsh</td>\n      <td>4</td>\n      <td>ES 623-Biomolecular Materials Science</td>\n      <td>EH 617-Advanced Field Techniques in Earth Scie...</td>\n      <td>ES 243-Biology for Engineers</td>\n      <td>ES 415-Nature-inspired Materials Design</td>\n      <td>NaN</td>\n      <td>NaN</td>\n    </tr>\n    <tr>\n      <th>4</th>\n      <td>21510520</td>\n      <td>Leia Hendrix</td>\n      <td>3</td>\n      <td>EH 614-Physics of the Lithosphere</td>\n      <td>MSE 209-Material Thermodynamics and Kinetics</td>\n      <td>MSE 401-Introduction to Polymer Physics and Pr...</td>\n      <td>MA 603-Nonlinear Analysis with Applications</td>\n      <td>ES 243-Biology for Engineers</td>\n      <td>NaN</td>\n    </tr>\n    <tr>\n      <th>...</th>\n      <td>...</td>\n      <td>...</td>\n      <td>...</td>\n      <td>...</td>\n      <td>...</td>\n      <td>...</td>\n      <td>...</td>\n      <td>...</td>\n      <td>...</td>\n    </tr>\n    <tr>\n      <th>995</th>\n      <td>21510247</td>\n      <td>Shepherd Hanna</td>\n      <td>4</td>\n      <td>HS 643-Indian and Western Cultural Theory</td>\n      <td>CL 221-Chemical Engineering Thermodynamics</td>\n      <td>CL 604-Advanced Reaction Engineering</td>\n      <td>MSE 401-Introduction to Polymer Physics and Pr...</td>\n      <td>ES 613-Modern Control Theory</td>\n      <td>ES 243-Biology for Engineers</td>\n    </tr>\n    <tr>\n      <th>996</th>\n      <td>21520171</td>\n      <td>Cynthia Skinner</td>\n      <td>3</td>\n      <td>ME 636-Fuel Cell and Battery Systems</td>\n      <td>MA 605-Commutative Algebra</td>\n      <td>CH 401-Food Chemistry</td>\n      <td>NaN</td>\n      <td>NaN</td>\n      <td>NaN</td>\n    </tr>\n    <tr>\n      <th>997</th>\n      <td>20110520</td>\n      <td>Ridge Walton</td>\n      <td>3</td>\n      <td>ME 321-Mechanics of Deformable Bodies</td>\n      <td>ME 636-Fuel Cell and Battery Systems</td>\n      <td>MSE 625-Thermodynamics of thin film growth</td>\n      <td>MSE 310-Physics of Materials</td>\n      <td>NaN</td>\n      <td>NaN</td>\n    </tr>\n    <tr>\n      <th>998</th>\n      <td>22110041</td>\n      <td>Scarlet Sanders</td>\n      <td>4</td>\n      <td>PH 607-Topics in Quantum and Statistical Mecha...</td>\n      <td>MA 603-Nonlinear Analysis with Applications</td>\n      <td>HS 643-Indian and Western Cultural Theory</td>\n      <td>ES 243-Biology for Engineers</td>\n      <td>MSE 401-Introduction to Polymer Physics and Pr...</td>\n      <td>HS 649-Public Policy and its Impact Evaluation</td>\n    </tr>\n    <tr>\n      <th>999</th>\n      <td>20510775</td>\n      <td>Jose Yates</td>\n      <td>1</td>\n      <td>CE 636-Traffic and Roadway Engineering</td>\n      <td>CL 628-Liquid State Theory</td>\n      <td>NaN</td>\n      <td>NaN</td>\n      <td>NaN</td>\n      <td>NaN</td>\n    </tr>\n  </tbody>\n</table>\n<p>1000 rows × 9 columns</p>\n</div>"
     },
     "metadata": {},
     "output_type": "display_data"
    }
   ],
   "source": [
    "# Displaying the student data\n",
    "display(stud_data)"
   ],
   "metadata": {
    "collapsed": false,
    "ExecuteTime": {
     "end_time": "2024-02-03T20:03:26.797397100Z",
     "start_time": "2024-02-03T20:03:26.763963Z"
    }
   }
  },
  {
   "cell_type": "markdown",
   "source": [
    "### Course Data"
   ],
   "metadata": {
    "collapsed": false
   }
  },
  {
   "cell_type": "code",
   "execution_count": 3,
   "outputs": [
    {
     "data": {
      "text/plain": "   Course Code                                     Course Name  \\\n0       HS 643              Indian and Western Cultural Theory   \n1       ES 243                           Biology for Engineers   \n2       HS 649         Public Policy and its Impact Evaluation   \n3      MSE 625              Thermodynamics of thin film growth   \n4       MA 603            Nonlinear Analysis with Applications   \n5       CG 506    Experimental Techniques in Cognitive Science   \n6       CL 628                             Liquid State Theory   \n7       HS 632                           A Multilingual Nation   \n8       PH 607     Topics in Quantum and Statistical Mechanics   \n9       ME 636                   Fuel Cell and Battery Systems   \n10      ME 321                  Mechanics of Deformable Bodies   \n11      MA 605                             Commutative Algebra   \n12      CE 636                 Traffic and Roadway Engineering   \n13      ES 623                  Biomolecular Materials Science   \n14      ES 413                                   Deep Learning   \n15      MS 404                                  Neuromarketing   \n16      EH 614                      Physics of the Lithosphere   \n17      CE 624                               River Engineering   \n18      CS 303                 Mathematical Foundations for AI   \n19      EH 617     Advanced Field Techniques in Earth Sciences   \n20     MSE 209            Material Thermodynamics and Kinetics   \n21      ES 613                           Modern Control Theory   \n22      CL 604                   Advanced Reaction Engineering   \n23     MSE 401  Introduction to Polymer Physics and Processing   \n24      CL 221             Chemical Engineering Thermodynamics   \n25      ES 415                Nature-inspired Materials Design   \n26     MSE 310                            Physics of Materials   \n27      CE 304                                 Concrete Design   \n28      MA 624                  Partial Differential Equations   \n29      CH 401                                  Food Chemistry   \n\n    Course Capacity  \n0                60  \n1                50  \n2                60  \n3                60  \n4                60  \n5                60  \n6                60  \n7                40  \n8                50  \n9                40  \n10               50  \n11               60  \n12               60  \n13               50  \n14               50  \n15               40  \n16               40  \n17               50  \n18               60  \n19               60  \n20               50  \n21               50  \n22               40  \n23               40  \n24               40  \n25               60  \n26               40  \n27               50  \n28               60  \n29               60  ",
      "text/html": "<div>\n<style scoped>\n    .dataframe tbody tr th:only-of-type {\n        vertical-align: middle;\n    }\n\n    .dataframe tbody tr th {\n        vertical-align: top;\n    }\n\n    .dataframe thead th {\n        text-align: right;\n    }\n</style>\n<table border=\"1\" class=\"dataframe\">\n  <thead>\n    <tr style=\"text-align: right;\">\n      <th></th>\n      <th>Course Code</th>\n      <th>Course Name</th>\n      <th>Course Capacity</th>\n    </tr>\n  </thead>\n  <tbody>\n    <tr>\n      <th>0</th>\n      <td>HS 643</td>\n      <td>Indian and Western Cultural Theory</td>\n      <td>60</td>\n    </tr>\n    <tr>\n      <th>1</th>\n      <td>ES 243</td>\n      <td>Biology for Engineers</td>\n      <td>50</td>\n    </tr>\n    <tr>\n      <th>2</th>\n      <td>HS 649</td>\n      <td>Public Policy and its Impact Evaluation</td>\n      <td>60</td>\n    </tr>\n    <tr>\n      <th>3</th>\n      <td>MSE 625</td>\n      <td>Thermodynamics of thin film growth</td>\n      <td>60</td>\n    </tr>\n    <tr>\n      <th>4</th>\n      <td>MA 603</td>\n      <td>Nonlinear Analysis with Applications</td>\n      <td>60</td>\n    </tr>\n    <tr>\n      <th>5</th>\n      <td>CG 506</td>\n      <td>Experimental Techniques in Cognitive Science</td>\n      <td>60</td>\n    </tr>\n    <tr>\n      <th>6</th>\n      <td>CL 628</td>\n      <td>Liquid State Theory</td>\n      <td>60</td>\n    </tr>\n    <tr>\n      <th>7</th>\n      <td>HS 632</td>\n      <td>A Multilingual Nation</td>\n      <td>40</td>\n    </tr>\n    <tr>\n      <th>8</th>\n      <td>PH 607</td>\n      <td>Topics in Quantum and Statistical Mechanics</td>\n      <td>50</td>\n    </tr>\n    <tr>\n      <th>9</th>\n      <td>ME 636</td>\n      <td>Fuel Cell and Battery Systems</td>\n      <td>40</td>\n    </tr>\n    <tr>\n      <th>10</th>\n      <td>ME 321</td>\n      <td>Mechanics of Deformable Bodies</td>\n      <td>50</td>\n    </tr>\n    <tr>\n      <th>11</th>\n      <td>MA 605</td>\n      <td>Commutative Algebra</td>\n      <td>60</td>\n    </tr>\n    <tr>\n      <th>12</th>\n      <td>CE 636</td>\n      <td>Traffic and Roadway Engineering</td>\n      <td>60</td>\n    </tr>\n    <tr>\n      <th>13</th>\n      <td>ES 623</td>\n      <td>Biomolecular Materials Science</td>\n      <td>50</td>\n    </tr>\n    <tr>\n      <th>14</th>\n      <td>ES 413</td>\n      <td>Deep Learning</td>\n      <td>50</td>\n    </tr>\n    <tr>\n      <th>15</th>\n      <td>MS 404</td>\n      <td>Neuromarketing</td>\n      <td>40</td>\n    </tr>\n    <tr>\n      <th>16</th>\n      <td>EH 614</td>\n      <td>Physics of the Lithosphere</td>\n      <td>40</td>\n    </tr>\n    <tr>\n      <th>17</th>\n      <td>CE 624</td>\n      <td>River Engineering</td>\n      <td>50</td>\n    </tr>\n    <tr>\n      <th>18</th>\n      <td>CS 303</td>\n      <td>Mathematical Foundations for AI</td>\n      <td>60</td>\n    </tr>\n    <tr>\n      <th>19</th>\n      <td>EH 617</td>\n      <td>Advanced Field Techniques in Earth Sciences</td>\n      <td>60</td>\n    </tr>\n    <tr>\n      <th>20</th>\n      <td>MSE 209</td>\n      <td>Material Thermodynamics and Kinetics</td>\n      <td>50</td>\n    </tr>\n    <tr>\n      <th>21</th>\n      <td>ES 613</td>\n      <td>Modern Control Theory</td>\n      <td>50</td>\n    </tr>\n    <tr>\n      <th>22</th>\n      <td>CL 604</td>\n      <td>Advanced Reaction Engineering</td>\n      <td>40</td>\n    </tr>\n    <tr>\n      <th>23</th>\n      <td>MSE 401</td>\n      <td>Introduction to Polymer Physics and Processing</td>\n      <td>40</td>\n    </tr>\n    <tr>\n      <th>24</th>\n      <td>CL 221</td>\n      <td>Chemical Engineering Thermodynamics</td>\n      <td>40</td>\n    </tr>\n    <tr>\n      <th>25</th>\n      <td>ES 415</td>\n      <td>Nature-inspired Materials Design</td>\n      <td>60</td>\n    </tr>\n    <tr>\n      <th>26</th>\n      <td>MSE 310</td>\n      <td>Physics of Materials</td>\n      <td>40</td>\n    </tr>\n    <tr>\n      <th>27</th>\n      <td>CE 304</td>\n      <td>Concrete Design</td>\n      <td>50</td>\n    </tr>\n    <tr>\n      <th>28</th>\n      <td>MA 624</td>\n      <td>Partial Differential Equations</td>\n      <td>60</td>\n    </tr>\n    <tr>\n      <th>29</th>\n      <td>CH 401</td>\n      <td>Food Chemistry</td>\n      <td>60</td>\n    </tr>\n  </tbody>\n</table>\n</div>"
     },
     "metadata": {},
     "output_type": "display_data"
    }
   ],
   "source": [
    "# Displaying the courses data\n",
    "display(cour_data)"
   ],
   "metadata": {
    "collapsed": false,
    "ExecuteTime": {
     "end_time": "2024-02-03T20:03:26.805997200Z",
     "start_time": "2024-02-03T20:03:26.789768Z"
    }
   }
  },
  {
   "cell_type": "markdown",
   "source": [
    "## Making the instances of the student and course classes"
   ],
   "metadata": {
    "collapsed": false
   }
  },
  {
   "cell_type": "code",
   "execution_count": 4,
   "outputs": [],
   "source": [
    "# Loading Courses Data\n",
    "courses = [alloc_structs.Course(cour_data.loc[i]['Course Code'], cour_data.loc[i]['Course Name'], cour_data.loc[i]['Course Capacity']) for i in cour_data.index]\n",
    "course_dict = {}\n",
    "for i, course in enumerate(courses):\n",
    "    course_dict[course.code] = i\n",
    "\n",
    "# Loading Students' Data\n",
    "students = [alloc_structs.Student(stud_data.loc[i]['Roll No.'], stud_data.loc[i]['Name'], stud_data.loc[i]['Number of courses they wish to take'], [c[:c.index('-')] for c in stud_data.loc[i].values[3:] if pd.notna(c)]) for i in stud_data.index]\n",
    "student_dict = {}\n",
    "for i, stud in enumerate(students):\n",
    "    student_dict[stud.roll] = i"
   ],
   "metadata": {
    "collapsed": false,
    "ExecuteTime": {
     "end_time": "2024-02-03T20:03:27.124811700Z",
     "start_time": "2024-02-03T20:03:26.799401400Z"
    }
   }
  },
  {
   "cell_type": "markdown",
   "source": [
    "## The Hospital Resident Matching Algorithm:\n",
    "- If the course preferred by the student can be assigned to them (there is some finite, non-negative remaining capacity for the course), it is allocated to the student.\n",
    "- If there is no remaining capacity, the least preferred student by the course is compared to the current student.\n",
    "- If both students will be ranked equally, one of them is randomly (uniformly) selected to be allocated the course."
   ],
   "metadata": {
    "collapsed": false
   }
  },
  {
   "cell_type": "code",
   "outputs": [
    {
     "name": "stdout",
     "output_type": "stream",
     "text": [
      "#1 Assignment:\n",
      "#2 Assignment:\n",
      "\t#2000 epoch: \tSatisfaction score = 27474.99999999999\n",
      "\t#4000 epoch: \tSatisfaction score = 27678.33333333332\n",
      "\t#6000 epoch: \tSatisfaction score = 27678.33333333332\n",
      "\t#8000 epoch: \tSatisfaction score = 27678.33333333332\n",
      "\t#10000 epoch: \tSatisfaction score = 27678.33333333332\n",
      "#3 Assignment:\n",
      "\t#2000 epoch: \tSatisfaction score = 683.3333333333334\n",
      "\t#4000 epoch: \tSatisfaction score = 683.3333333333334\n",
      "\t#6000 epoch: \tSatisfaction score = 683.3333333333334\n",
      "\t#8000 epoch: \tSatisfaction score = 683.3333333333334\n",
      "\t#10000 epoch: \tSatisfaction score = 683.3333333333334\n",
      "#4 Assignment:\n",
      "\t#2000 epoch: \tSatisfaction score = 0\n",
      "\t#4000 epoch: \tSatisfaction score = 0\n",
      "\t#6000 epoch: \tSatisfaction score = 0\n",
      "\t#8000 epoch: \tSatisfaction score = 0\n",
      "\t#10000 epoch: \tSatisfaction score = 0\n",
      "#5 Assignment:\n",
      "\t#2000 epoch: \tSatisfaction score = 0\n",
      "\t#4000 epoch: \tSatisfaction score = 0\n",
      "\t#6000 epoch: \tSatisfaction score = 0\n",
      "\t#8000 epoch: \tSatisfaction score = 0\n",
      "\t#10000 epoch: \tSatisfaction score = 0\n",
      "#6 Assignment:\n",
      "\t#2000 epoch: \tSatisfaction score = 0\n",
      "\t#4000 epoch: \tSatisfaction score = 0\n",
      "\t#6000 epoch: \tSatisfaction score = 0\n",
      "\t#8000 epoch: \tSatisfaction score = 0\n",
      "\t#10000 epoch: \tSatisfaction score = 0\n"
     ]
    }
   ],
   "source": [
    "courses_in_consideration = [i for i in range(len(courses))] # Change if you want to selectively allocate some courses\n",
    "students_in_consideration = [i for i in range(len(students))] # Change if you want to selectively assign some students\n",
    "unassigned_students = [i for i in students_in_consideration]\n",
    "\n",
    "assign_no = 0\n",
    "while len(unassigned_students) > 0 and assign_no < max_courses:\n",
    "    total_score = 0\n",
    "    epoch = 0\n",
    "    print(f'#{assign_no+1} Assignment:')\n",
    "    while len(unassigned_students) > 0 and epoch < max(max_epoch, 2*len(students_in_consideration)):\n",
    "        lucky_student = random.choice(unassigned_students) # Student being allocated a course\n",
    "        for pref in students[lucky_student].course_preferences:\n",
    "            # If most preferred course has remaining capacity\n",
    "            if courses[course_dict[pref]].r_cap > 0:\n",
    "                courses[course_dict[pref]].add_student(students[lucky_student])\n",
    "                unassigned_students.remove(lucky_student)\n",
    "                total_score += students[lucky_student].temp_score\n",
    "                break\n",
    "            # If the current student is preferred to the least preferred temporarily allocated student in the course\n",
    "            elif len(courses[course_dict[pref]].temp_assigned_students) > 0 and (len(courses[course_dict[pref]].temp_assigned_students[-1].course_preferences) > len(students[lucky_student].course_preferences) or (len(courses[course_dict[pref]].temp_assigned_students[-1].course_preferences) == len(students[lucky_student].course_preferences) and courses[course_dict[pref]].temp_assigned_students[-1].temp_score > students[lucky_student].temp_score)) :\n",
    "                total_score -= students[student_dict[courses[course_dict[pref]].temp_assigned_students[-1].roll]].temp_score\n",
    "                courses[course_dict[pref]].popularity_index += students[student_dict[courses[course_dict[pref]].temp_assigned_students[-1].roll]].temp_score / students[student_dict[courses[course_dict[pref]].temp_assigned_students[-1].roll]].desired_n\n",
    "                unlucky_student = courses[course_dict[pref]].remove_last()\n",
    "                unassigned_students.append(student_dict[unlucky_student])\n",
    "                courses[course_dict[pref]].add_student(students[lucky_student])\n",
    "                unassigned_students.remove(lucky_student)\n",
    "                total_score += students[lucky_student].temp_score\n",
    "                break\n",
    "            # If the current student is equally preferred as the least preferred temporarily allocated student in the course then with probability half\n",
    "            elif len(courses[course_dict[pref]].temp_assigned_students) > 0 and len(courses[course_dict[pref]].temp_assigned_students[-1].course_preferences) == len(students[lucky_student].course_preferences) and courses[course_dict[pref]].temp_assigned_students[-1].temp_score == students[lucky_student].temp_score and random.choice([0, 1]) == 1:\n",
    "                total_score -= students[student_dict[courses[course_dict[pref]].temp_assigned_students[-1].roll]].temp_score\n",
    "                courses[course_dict[pref]].popularity_index += students[student_dict[courses[course_dict[pref]].temp_assigned_students[-1].roll]].temp_score / students[student_dict[courses[course_dict[pref]].temp_assigned_students[-1].roll]].desired_n\n",
    "                unlucky_student = courses[course_dict[pref]].remove_last()\n",
    "                unassigned_students.append(student_dict[unlucky_student])\n",
    "                courses[course_dict[pref]].add_student(students[lucky_student])\n",
    "                unassigned_students.remove(lucky_student)\n",
    "                total_score += students[lucky_student].temp_score\n",
    "                break\n",
    "        epoch += 1\n",
    "        if epoch%2000==0:\n",
    "            print(f'\\t#{epoch} epoch: \\tSatisfaction score = {total_score}')\n",
    "    # Marking all allocations as permanent\n",
    "    for course in courses_in_consideration:\n",
    "        courses[course].fixate()\n",
    "    # Finding next set of unassigned students\n",
    "    unassigned_students = [i for i in students_in_consideration if students[i].desired_n > students[i].actual_n and len(students[i].course_preferences) > 0]\n",
    "    assign_no += 1"
   ],
   "metadata": {
    "collapsed": false,
    "ExecuteTime": {
     "end_time": "2024-02-03T20:03:27.284217300Z",
     "start_time": "2024-02-03T20:03:26.949897700Z"
    }
   },
   "id": "2e88914bb0b74666",
   "execution_count": 5
  },
  {
   "cell_type": "markdown",
   "source": [
    "## Data Visualization\n",
    "Let us peek into the score distribution. In almost all instances it has performed better than classical methods like a first-come-first-serve based allocation (We do not make that comparison in this notebook; however, one can try out for themselves and verify this on their custom dataset). Ideally, we want a high mean satisfaction score and a low standard deviation for the score distribution."
   ],
   "metadata": {
    "collapsed": false
   }
  },
  {
   "cell_type": "code",
   "execution_count": 6,
   "outputs": [
    {
     "name": "stdout",
     "output_type": "stream",
     "text": [
      "The minimum score is 16.666666666666668\n",
      "The maximum score is 100.0\n",
      "The mean satisfaction score is 60.80388888888889\n",
      "The standard deviation of the scores is 28.822022995756235\n"
     ]
    }
   ],
   "source": [
    "# Peeking into the score distribution\n",
    "scores = np.array([stud.score for stud in students])\n",
    "print(f'The minimum score is {scores.min()}')\n",
    "print(f'The maximum score is {scores.max()}')\n",
    "print(f'The mean satisfaction score is {scores.mean()}')\n",
    "print(f'The standard deviation of the scores is {scores.std()}')"
   ],
   "metadata": {
    "collapsed": false,
    "ExecuteTime": {
     "end_time": "2024-02-03T20:03:27.284217300Z",
     "start_time": "2024-02-03T20:03:27.143440800Z"
    }
   }
  },
  {
   "cell_type": "markdown",
   "source": [
    "The histogram helps visualize the distribution and makes evident that a huge chunk of the students have been allocated their exact preference (100% satisfaction score). Among the rest, most of the students lie in the range of 30%-50% satisfaction scores."
   ],
   "metadata": {
    "collapsed": false
   }
  },
  {
   "cell_type": "code",
   "execution_count": 7,
   "outputs": [
    {
     "data": {
      "text/plain": "<Figure size 1600x900 with 1 Axes>",
      "image/png": "[encoded data removed]"
     },
     "metadata": {},
     "output_type": "display_data"
    }
   ],
   "source": [
    "# Plotting a histogram to visualize the score distribution\n",
    "plt.figure(1, (16, 9))\n",
    "plt.title(f'Number of students against their satisfaction scores')\n",
    "plt.xlabel('Satisfaction Score')\n",
    "plt.ylabel('Number of students')\n",
    "plt.hist(scores, bins = 15, histtype='barstacked', rwidth=0.95)\n",
    "plt.show()"
   ],
   "metadata": {
    "collapsed": false,
    "ExecuteTime": {
     "end_time": "2024-02-03T20:03:27.331963200Z",
     "start_time": "2024-02-03T20:03:27.156753300Z"
    }
   }
  },
  {
   "cell_type": "markdown",
   "source": [
    "Let us now take a look into the most popular courses (determined by a measure based on the score by which the mean score could've been increased). Here, we only look at the top three courses. Note that this might drastically change when we choose to change the capacity of either of the courses."
   ],
   "metadata": {
    "collapsed": false
   }
  },
  {
   "cell_type": "code",
   "execution_count": 8,
   "outputs": [
    {
     "name": "stdout",
     "output_type": "stream",
     "text": [
      "Code:\t\t\t\t\t\tMSE 401\n",
      "Name:\t\t\t\t\t\tIntroduction to Polymer Physics and Processing\n",
      "Capacity:\t\t\t\t\t40\n",
      "Allocated Number:\t\t\t40\n",
      "Supernumerarily Allocated:\t0\n",
      "\n",
      "Code:\t\t\t\t\t\tES 623\n",
      "Name:\t\t\t\t\t\tBiomolecular Materials Science\n",
      "Capacity:\t\t\t\t\t50\n",
      "Allocated Number:\t\t\t50\n",
      "Supernumerarily Allocated:\t0\n",
      "\n",
      "Code:\t\t\t\t\t\tCL 604\n",
      "Name:\t\t\t\t\t\tAdvanced Reaction Engineering\n",
      "Capacity:\t\t\t\t\t40\n",
      "Allocated Number:\t\t\t40\n",
      "Supernumerarily Allocated:\t0\n"
     ]
    }
   ],
   "source": [
    "# Looking into the most popular courses\n",
    "sorted_courses = courses.copy()\n",
    "sorted_courses.sort(key=lambda x:x.popularity_index, reverse=True)\n",
    "print(*sorted_courses[:3], sep='\\n\\n')"
   ],
   "metadata": {
    "collapsed": false,
    "ExecuteTime": {
     "end_time": "2024-02-03T20:03:27.331963200Z",
     "start_time": "2024-02-03T20:03:27.316380100Z"
    }
   }
  },
  {
   "cell_type": "markdown",
   "source": [
    "## Saving as files\n",
    "Here, we simply save the allocation done into .csv files for future reference."
   ],
   "metadata": {
    "collapsed": false
   },
   "id": "70532c96a874be09"
  },
  {
   "cell_type": "code",
   "outputs": [],
   "source": [
    "# Saving the student-wise allocation file\n",
    "output = pd.DataFrame(stud_data[['Roll No.', 'Name']]).set_index('Roll No.')\n",
    "al_courses = []\n",
    "for roll in output.index:\n",
    "    al_courses.append(list(map(lambda x: x.code, students[student_dict[roll]].allocated_courses)))\n",
    "output['Allocated Courses'] = pd.Series(al_courses).values\n",
    "output.to_csv('data/student_wise_allocation.csv')"
   ],
   "metadata": {
    "collapsed": false,
    "ExecuteTime": {
     "end_time": "2024-02-03T20:03:27.350419300Z",
     "start_time": "2024-02-03T20:03:27.326526900Z"
    }
   },
   "id": "92abe01802160528",
   "execution_count": 9
  },
  {
   "cell_type": "code",
   "outputs": [],
   "source": [
    "# Saving the course-wise assignment file\n",
    "output = cour_data.set_index('Course Code')\n",
    "al_stud = []\n",
    "al_n = []\n",
    "for code in output.index:\n",
    "    al_stud.append(list(map(lambda x: x.roll, courses[course_dict[code]].perm_assigned_students)))\n",
    "    al_n.append(courses[course_dict[code]].cap-courses[course_dict[code]].r_cap+courses[course_dict[code]].sn)\n",
    "output['Number of assigned Students'] = pd.Series(al_n).values\n",
    "output['Assigned Students'] = pd.Series(al_stud).values\n",
    "output.to_csv('data/course_wise_assignment.csv')"
   ],
   "metadata": {
    "collapsed": false,
    "ExecuteTime": {
     "end_time": "2024-02-03T20:03:27.353084400Z",
     "start_time": "2024-02-03T20:03:27.342583800Z"
    }
   },
   "id": "de1a1e8f49494c9c",
   "execution_count": 10
  }
 ],
 "metadata": {
  "kernelspec": {
   "display_name": "Python 3",
   "language": "python",
   "name": "python3"
  },
  "language_info": {
   "codemirror_mode": {
    "name": "ipython",
    "version": 2
   },
   "file_extension": ".py",
   "mimetype": "text/x-python",
   "name": "python",
   "nbconvert_exporter": "python",
   "pygments_lexer": "ipython2",
   "version": "2.7.6"
  }
 },
 "nbformat": 4,
 "nbformat_minor": 5
}
