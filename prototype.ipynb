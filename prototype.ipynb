{
 "cells": [
  {
   "cell_type": "markdown",
   "source": [
    "# Prototype and Initialisation File"
   ],
   "metadata": {
    "collapsed": false
   },
   "id": "d352ee0f07d668b"
  },
  {
   "cell_type": "code",
   "execution_count": null,
   "id": "initial_id",
   "metadata": {
    "collapsed": true
   },
   "outputs": [],
   "source": [
    "import math\n",
    "import copy\n",
    "import random\n",
    "import allocationStructures\n",
    "import numpy as np\n",
    "import pandas as pd\n",
    "\n",
    "# random seed\n",
    "\n",
    "data = pd.read_csv('input_data/HSS Course Sem 2, 2023-2024 (Responses) - Form Responses 1.csv')"
   ]
  },
  {
   "cell_type": "markdown",
   "source": [
    "## Data Cleaning"
   ],
   "metadata": {
    "collapsed": false
   },
   "id": "83eadf05a6884f8e"
  },
  {
   "cell_type": "code",
   "outputs": [],
   "source": [
    "# display(data[[str(i)[-2:]!=str(j)[:2] for i, j in zip(data['Year of joining the current programme'].values, data['Roll No'].values)]])\n",
    "\n",
    "# Removing first-year undergraduate students\n",
    "ug = data[[(i or j or k or l) for i, j, k, l in zip(data['Programme'] == 'BTech', data['Programme'] == 'BTech- MTech Dual Degree', data['Programme'] == 'Dual Major BTech', data['Programme'] == 'BSc in Engineering')]]\n",
    "ug = ug[ug['Year of joining the current programme'] == 2023]\n",
    "data = data.drop(ug.index, axis=0)\n",
    "# Removing illogical entries\n",
    "mismatch_roll = data[data['Roll No'].astype(str) != data['Re-enter Roll No'].astype(str)]\n",
    "data = data.drop(mismatch_roll.index, axis=0)\n",
    "\n",
    "print('Removed entries:')\n",
    "display(pd.concat([ug, mismatch_roll]))\n",
    "\n",
    "print('Final Data:')\n",
    "display(data)"
   ],
   "metadata": {
    "collapsed": false
   },
   "id": "697312553de39ff7",
   "execution_count": null
  },
  {
   "cell_type": "markdown",
   "source": [
    "## Courses' File Creation"
   ],
   "metadata": {
    "collapsed": false
   },
   "id": "4b28163d30487636"
  },
  {
   "cell_type": "code",
   "outputs": [],
   "source": [
    "# Courses File Creation\n",
    "courses = [y[82:82+y[82:].find(']')] for y in data.columns[[x.startswith('Indicate the priority for your choice of courses') for x in data.columns]]]\n",
    "course_codes = [' '.join(x.split()[:2]) for x in courses]\n",
    "course_names = [' '.join(x.split()[2:]) for x in courses]\n",
    "print(course_codes)\n",
    "print(course_names)\n",
    "courses_df = pd.DataFrame(np.array([course_codes, course_names]).T, columns=['Code', 'Name']).set_index('Code').drop_duplicates()\n",
    "courses_df['Capacity'] = 40\n",
    "courses_df.loc[[x for x in courses_df.index if x.startswith('MS')], 'Capacity'] = 50\n",
    "courses_df['Max Suggestive Capacity'] = (5 * courses_df['Capacity'])//4\n",
    "courses_df.to_csv('input_data/courses.csv')\n",
    "courses = [allocationStructures.Course(i, courses_df.loc[i]['Name'], courses_df.loc[i]['Capacity']) for i in courses_df.index]\n",
    "course_dict = {}\n",
    "for i, course in enumerate(courses):\n",
    "    course_dict[course.code] = i\n",
    "print(courses_df)\n",
    "print(course_dict)"
   ],
   "metadata": {
    "collapsed": false
   },
   "id": "b703328af9d0b3ab",
   "execution_count": null
  },
  {
   "cell_type": "markdown",
   "source": [
    "## Students' File Creation"
   ],
   "metadata": {
    "collapsed": false
   },
   "id": "63d319d06b44878a"
  },
  {
   "cell_type": "code",
   "outputs": [],
   "source": [
    "students = [allocationStructures.Student(str(stud[4]), ' '.join([('' if pd.isna(stud[2]) else stud[2].strip().upper()), ('' if pd.isna(stud[3]) else stud[3].strip().upper())])) for stud in data.values]\n",
    "student_dict = {}\n",
    "for i, stud in enumerate(students):\n",
    "    student_dict[stud.roll] = i\n",
    "pd.DataFrame([[stud.roll, stud.name] for stud in students]).to_csv('input_data/students.csv')"
   ],
   "metadata": {
    "collapsed": false
   },
   "id": "3d7a42a8bdd178f6",
   "execution_count": null
  },
  {
   "cell_type": "markdown",
   "source": [
    "## MA Students' Core Course Allocation"
   ],
   "metadata": {
    "collapsed": false
   },
   "id": "f7873b07a0baf93d"
  },
  {
   "cell_type": "code",
   "outputs": [],
   "source": [
    "core_courses = [' '.join(x.split()[:2]) for x in [y[87:87+y[87:].find(']')] for y in data.columns[[x.startswith('Indicate the priority for your choice of core courses') for x in data.columns]]]]\n",
    "ma_df = data[data['Programme'] == 'MA'][['Email Address', 'First Name', 'Last Name', 'Roll No', 'How Many core courses would you be taking this semester?'] + data.columns[[x.startswith('Indicate the priority for your choice of core courses') for x in data.columns]].tolist()]\n",
    "for entry in ma_df.values:\n",
    "    sroll = str(entry[3])\n",
    "    dn = entry[4]\n",
    "    pref = [-1 for i in range(len(core_courses))]\n",
    "    for i, cc in enumerate(core_courses):\n",
    "        if pd.notna(entry[i+5]):\n",
    "            pref[int(entry[i+5].split()[-1]) - 1] = cc\n",
    "    for i, cc in enumerate(pref):\n",
    "        if cc != -1 and dn>0:\n",
    "            students[student_dict[sroll]].allocate(courses[course_dict[cc]])\n",
    "            dn -= 1\n",
    "    print(students[student_dict[sroll]])"
   ],
   "metadata": {
    "collapsed": false
   },
   "id": "a2dce64dcb674d0",
   "execution_count": null
  },
  {
   "cell_type": "code",
   "outputs": [],
   "source": [
    "for course in core_courses:\n",
    "    print(courses[course_dict[course]])"
   ],
   "metadata": {
    "collapsed": false
   },
   "id": "e6f6cc7a6450d1b2",
   "execution_count": null
  },
  {
   "cell_type": "markdown",
   "source": [
    "## Management Minors Students' Allocation"
   ],
   "metadata": {
    "collapsed": false
   },
   "id": "d526cc614521c31"
  },
  {
   "cell_type": "code",
   "outputs": [],
   "source": [
    "# Selecting students eligible for management minors preference\n",
    "ug_stud = data[[i or j or k for i, j, k in zip(data['Programme'] == 'BTech', data['Programme'] == 'BTech- MTech Dual Degree', data['Programme'] == 'Dual Major BTech')]]\n",
    "ug_stud = ug_stud[ug_stud['Are you pursuing a Minor in Management?'] == 'Yes']\n",
    "ug_stud20 = ug_stud[ug_stud['Year of joining the current programme'] < 2021]\n",
    "ug_stud21 = ug_stud[ug_stud['Year of joining the current programme'] == 2021]\n",
    "ug_stud22 = ug_stud[ug_stud['Year of joining the current programme'] > 2021]\n",
    "ug_stud = pd.concat([ug_stud20[ug_stud20['How many courses have you completed towards your Management Minor'] > 2], ug_stud21[ug_stud21['How many courses have you completed towards your Management Minor'] > 0], ug_stud22])"
   ],
   "metadata": {
    "collapsed": false
   },
   "id": "82ef06bd4baf6bc0",
   "execution_count": null
  },
  {
   "cell_type": "code",
   "outputs": [],
   "source": [
    "pc = [(i, column) for i, column in enumerate(ug_stud.columns) if column.startswith('Indicate the priority for your choice of courses')]\n",
    "courses_in_consideration = [course_dict[course.code] for course in courses if course.code.startswith('MS')]\n",
    "course_columns = [[] for _ in range(len(courses_in_consideration))]\n",
    "for ind, course in enumerate(courses_in_consideration):\n",
    "    course_columns[ind] = [i[0] for i in pc if courses[course].code+' ' in ' '.join(i[1].split())]\n",
    "students_in_consideration = [student_dict[str(entry[4])] for entry in ug_stud.values]\n",
    "rem = []\n",
    "for ind, entry in enumerate(ug_stud.values):\n",
    "    pref = ['*' for _ in range(6)]\n",
    "    for course, column_names in zip(courses_in_consideration, course_columns):\n",
    "        for cn in column_names:\n",
    "            if pd.notna(entry[cn]):\n",
    "                pref[int(entry[cn].split()[-1]) - 1] = courses[course].code\n",
    "    pref = [_ for _ in pref if _ != '*']\n",
    "    if len(pref)==0:\n",
    "        students_in_consideration.remove(student_dict[str(entry[4])])\n",
    "        rem.append(ug_stud.index[ind])\n",
    "    else:\n",
    "        students[student_dict[str(entry[4])]].course_preferences = copy.copy(pref)\n",
    "        students[student_dict[str(entry[4])]].desired_n = int(entry[12])\n",
    "ug_stud.drop(rem, axis = 0, inplace=True)\n",
    "display(ug_stud)\n",
    "\n",
    "unassigned_students = [_ for _ in students_in_consideration]\n",
    "\n",
    "f = 0\n",
    "while len(unassigned_students) > 0:\n",
    "    total = 0\n",
    "    epoch = 0\n",
    "    print(f'#{f+1} Assignment:')\n",
    "    while len(unassigned_students) > 0 and epoch < 1000:\n",
    "        lucky_student = random.choice(unassigned_students)\n",
    "        for pref in students[lucky_student].course_preferences:\n",
    "            if courses[course_dict[pref]].r_cap > 0:\n",
    "                courses[course_dict[pref]].add_student(students[lucky_student])\n",
    "                unassigned_students.remove(lucky_student)\n",
    "                total += students[lucky_student].temp_score\n",
    "                break\n",
    "            elif len(courses[course_dict[pref]].tempAllocatedStudents) > 0 and len(courses[course_dict[pref]].tempAllocatedStudents[-1].course_preferences) > len(students[lucky_student].course_preferences):\n",
    "                total -= students[student_dict[courses[course_dict[pref]].tempAllocatedStudents[-1].roll]].temp_score\n",
    "                courses[course_dict[pref]].popularityIndex += students[student_dict[courses[course_dict[pref]].tempAllocatedStudents[-1].roll]].temp_score / students[student_dict[courses[course_dict[pref]].tempAllocatedStudents[-1].roll]].desired_n\n",
    "                unlucky_student = courses[course_dict[pref]].remove_last()\n",
    "                unassigned_students.append(student_dict[unlucky_student])\n",
    "                courses[course_dict[pref]].add_student(students[lucky_student])\n",
    "                unassigned_students.remove(lucky_student)\n",
    "                total += students[lucky_student].temp_score\n",
    "                break\n",
    "            elif len(courses[course_dict[pref]].tempAllocatedStudents) > 0 and len(courses[course_dict[pref]].tempAllocatedStudents[-1].course_preferences) == len(students[lucky_student].course_preferences) and random.choice([0, 1]) == 1:\n",
    "                total -= students[student_dict[courses[course_dict[pref]].tempAllocatedStudents[-1].roll]].temp_score\n",
    "                courses[course_dict[pref]].popularityIndex += students[student_dict[courses[course_dict[pref]].tempAllocatedStudents[-1].roll]].temp_score / students[student_dict[courses[course_dict[pref]].tempAllocatedStudents[-1].roll]].desired_n\n",
    "                unlucky_student = courses[course_dict[pref]].remove_last()\n",
    "                unassigned_students.append(student_dict[unlucky_student])\n",
    "                courses[course_dict[pref]].add_student(students[lucky_student])\n",
    "                unassigned_students.remove(lucky_student)\n",
    "                total += students[lucky_student].temp_score\n",
    "                break\n",
    "        epoch += 1\n",
    "        print(f'#{epoch} epoch: Satisfaction score = {total}')\n",
    "    for course in courses_in_consideration:\n",
    "        courses[course].fixate()\n",
    "    unassigned_students = [i for i in students_in_consideration if students[i].desired_n > students[i].actual_n and len(students[i].course_preferences) > 0]\n",
    "    f += 1"
   ],
   "metadata": {
    "collapsed": false
   },
   "id": "2e88914bb0b74666",
   "execution_count": null
  },
  {
   "cell_type": "code",
   "outputs": [],
   "source": [
    "for stud in students_in_consideration:\n",
    "    print(students[stud])"
   ],
   "metadata": {
    "collapsed": false
   },
   "id": "c24aa13af8ed54d3",
   "execution_count": null
  },
  {
   "cell_type": "code",
   "outputs": [],
   "source": [
    "for c in courses_in_consideration:\n",
    "    print(courses[c])"
   ],
   "metadata": {
    "collapsed": false
   },
   "id": "98acbebaf148ee6d",
   "execution_count": null
  },
  {
   "cell_type": "markdown",
   "source": [
    "## HSS Students' Preferred Allotment"
   ],
   "metadata": {
    "collapsed": false
   },
   "id": "7f4ab660b372d41d"
  },
  {
   "cell_type": "code",
   "outputs": [],
   "source": [
    "# Selecting students eligible for HSS preference\n",
    "hs_stud = data[data['Discipline'] == 'Humanities and Social Sciences']\n",
    "hs_stud = hs_stud[hs_stud['Programme'] != 'PhD']\n",
    "display(hs_stud)"
   ],
   "metadata": {
    "collapsed": false
   },
   "id": "53df7e84b3a6574e",
   "execution_count": null
  },
  {
   "cell_type": "code",
   "outputs": [],
   "source": [
    "pc = [(i, column) for i, column in enumerate(hs_stud.columns) if column.startswith('Indicate the priority for your choice of courses')]\n",
    "courses_in_consideration = [course_dict[course.code] for course in courses if course.code.startswith('HS')]\n",
    "course_columns = [[] for _ in range(len(courses_in_consideration))]\n",
    "for ind, course in enumerate(courses_in_consideration):\n",
    "    course_columns[ind] = [i[0] for i in pc if courses[course].code+' ' in ' '.join(i[1].split())]\n",
    "students_in_consideration = [student_dict[str(entry[4])] for entry in hs_stud.values]\n",
    "rem = []\n",
    "for ind, entry in enumerate(hs_stud.values):\n",
    "    pref = ['*' for _ in range(6)]\n",
    "    for course, column_names in zip(courses_in_consideration, course_columns):\n",
    "        for cn in column_names:\n",
    "            if pd.notna(entry[cn]):\n",
    "                pref[int(entry[cn].split()[-1]) - 1] = courses[course].code\n",
    "    pref = [_ for _ in pref if _ != '*']\n",
    "    pref = [_ for _ in pref if courses[course_dict[_]] not in students[student_dict[str(entry[4])]].allocated_courses]\n",
    "    if len(pref)==0:\n",
    "        students_in_consideration.remove(student_dict[str(entry[4])])\n",
    "        rem.append(hs_stud.index[ind])\n",
    "    else:\n",
    "        students[student_dict[str(entry[4])]].course_preferences = copy.copy(pref)\n",
    "        students[student_dict[str(entry[4])]].desired_n = max(0 if pd.isna(entry[12]) else int(entry[12]), 0 if pd.isna(entry[59]) else int(entry[59]))\n",
    "hs_stud.drop(rem, axis = 0, inplace=True)\n",
    "display(hs_stud)\n",
    "\n",
    "unassigned_students = [_ for _ in students_in_consideration if students[_].desired_n > students[_].actual_n == 0]\n",
    "print(len(unassigned_students))\n",
    "\n",
    "f = 0\n",
    "while f<2:\n",
    "    total = 0\n",
    "    epoch = 0\n",
    "    print(f'#{f+1} Assignment:')\n",
    "    while len(unassigned_students) > 0 and epoch < 1000:\n",
    "        lucky_student = random.choice(unassigned_students)\n",
    "        for pref in students[lucky_student].course_preferences:\n",
    "            if courses[course_dict[pref]].r_cap > 0:\n",
    "                courses[course_dict[pref]].add_student(students[lucky_student])\n",
    "                unassigned_students.remove(lucky_student)\n",
    "                total += students[lucky_student].temp_score\n",
    "                break\n",
    "            elif len(courses[course_dict[pref]].tempAllocatedStudents) > 0 and len(courses[course_dict[pref]].tempAllocatedStudents[-1].course_preferences) > len(students[lucky_student].course_preferences):\n",
    "                total -= students[student_dict[courses[course_dict[pref]].tempAllocatedStudents[-1].roll]].temp_score\n",
    "                courses[course_dict[pref]].popularityIndex += students[student_dict[courses[course_dict[pref]].tempAllocatedStudents[-1].roll]].temp_score / students[student_dict[courses[course_dict[pref]].tempAllocatedStudents[-1].roll]].desired_n\n",
    "                unlucky_student = courses[course_dict[pref]].remove_last()\n",
    "                unassigned_students.append(student_dict[unlucky_student])\n",
    "                courses[course_dict[pref]].add_student(students[lucky_student])\n",
    "                unassigned_students.remove(lucky_student)\n",
    "                total += students[lucky_student].temp_score\n",
    "                break\n",
    "            elif len(courses[course_dict[pref]].tempAllocatedStudents) > 0 and len(courses[course_dict[pref]].tempAllocatedStudents[-1].course_preferences) == len(students[lucky_student].course_preferences) and random.choice([0, 1]) == 1:\n",
    "                total -= students[student_dict[courses[course_dict[pref]].tempAllocatedStudents[-1].roll]].temp_score\n",
    "                courses[course_dict[pref]].popularityIndex += students[student_dict[courses[course_dict[pref]].tempAllocatedStudents[-1].roll]].temp_score / students[student_dict[courses[course_dict[pref]].tempAllocatedStudents[-1].roll]].desired_n\n",
    "                unlucky_student = courses[course_dict[pref]].remove_last()\n",
    "                unassigned_students.append(student_dict[unlucky_student])\n",
    "                courses[course_dict[pref]].add_student(students[lucky_student])\n",
    "                unassigned_students.remove(lucky_student)\n",
    "                total += students[lucky_student].temp_score\n",
    "                break\n",
    "        epoch += 1\n",
    "        print(f'#{epoch} epoch: Satisfaction score = {total}')\n",
    "    for course in courses_in_consideration:\n",
    "        courses[course].fixate()\n",
    "    unassigned_students = [i for i in students_in_consideration if (students[i].desired_n > students[i].actual_n <= f+1) and len(students[i].course_preferences) > 0]\n",
    "    f += 1\n",
    "    print()"
   ],
   "metadata": {
    "collapsed": false
   },
   "id": "dceb631fb58642b0",
   "execution_count": null
  },
  {
   "cell_type": "code",
   "outputs": [],
   "source": [
    "for stud in students_in_consideration:\n",
    "    print(students[stud])"
   ],
   "metadata": {
    "collapsed": false
   },
   "id": "54c23248f84b1af0",
   "execution_count": null
  },
  {
   "cell_type": "code",
   "outputs": [],
   "source": [
    "for c in courses_in_consideration:\n",
    "    print(courses[c])"
   ],
   "metadata": {
    "collapsed": false
   },
   "id": "6839f6b4eee1ea0d",
   "execution_count": null
  },
  {
   "cell_type": "markdown",
   "source": [
    "## General Allocation (excluding PhD HSS)"
   ],
   "metadata": {
    "collapsed": false
   },
   "id": "d371ca45054cbe63"
  },
  {
   "cell_type": "code",
   "outputs": [],
   "source": [
    "# Excluding PhD students\n",
    "phd_stud = data[data['Programme'] == 'PhD']\n",
    "phd_stud = phd_stud[phd_stud['Discipline'] == 'Humanities and Social Sciences']\n",
    "g_stud = data.drop(phd_stud.index, axis = 0)\n",
    "display(g_stud)"
   ],
   "metadata": {
    "collapsed": false
   },
   "id": "4937f61cff7e69eb",
   "execution_count": null
  },
  {
   "cell_type": "code",
   "outputs": [],
   "source": [
    "pc = [(i, column) for i, column in enumerate(g_stud.columns) if column.startswith('Indicate the priority for your choice of courses')]\n",
    "courses_in_consideration = [course_dict[course.code] for course in courses]\n",
    "course_columns = [[] for _ in range(len(courses_in_consideration))]\n",
    "for ind, course in enumerate(courses_in_consideration):\n",
    "    course_columns[ind] = [i[0] for i in pc if courses[course].code+' ' in ' '.join(i[1].split())]\n",
    "students_in_consideration = [student_dict[str(entry[4])] for entry in g_stud.values]\n",
    "rem = []\n",
    "for ind, entry in enumerate(g_stud.values):\n",
    "    pref = ['*' for _ in range(6)]\n",
    "    for course, column_names in zip(courses_in_consideration, course_columns):\n",
    "        for cn in column_names:\n",
    "            if pd.notna(entry[cn]):\n",
    "                pref[int(entry[cn].split()[-1]) - 1] = courses[course].code\n",
    "    pref = [_ for _ in pref if _ != '*']\n",
    "    pref = [_ for _ in pref if courses[course_dict[_]] not in students[student_dict[str(entry[4])]].allocated_courses]\n",
    "    if len(pref)==0:\n",
    "        students_in_consideration.remove(student_dict[str(entry[4])])\n",
    "        rem.append(g_stud.index[ind])\n",
    "    else:\n",
    "        students[student_dict[str(entry[4])]].course_preferences = copy.copy(pref)\n",
    "        students[student_dict[str(entry[4])]].desired_n = max(0 if pd.isna(entry[12]) else int(entry[12]), 0 if pd.isna(entry[59]) else int(entry[59]))\n",
    "g_stud.drop(rem, axis = 0, inplace=True)\n",
    "display(g_stud)\n",
    "\n",
    "unassigned_students = [_ for _ in students_in_consideration if students[_].desired_n > students[_].actual_n == 0]\n",
    "print(len(unassigned_students))\n",
    "\n",
    "f = 0\n",
    "while f<7:\n",
    "    total = 0\n",
    "    epoch = 0\n",
    "    print(f'#{f+1} Assignment:')\n",
    "    while len(unassigned_students) > 0 and epoch < 5000:\n",
    "        lucky_student = random.choice(unassigned_students)\n",
    "        for pref in students[lucky_student].course_preferences:\n",
    "            if courses[course_dict[pref]].r_cap > 0:\n",
    "                courses[course_dict[pref]].add_student(students[lucky_student])\n",
    "                unassigned_students.remove(lucky_student)\n",
    "                total += students[lucky_student].temp_score\n",
    "                break\n",
    "            elif len(courses[course_dict[pref]].tempAllocatedStudents) > 0 and len(courses[course_dict[pref]].tempAllocatedStudents[-1].course_preferences) > len(students[lucky_student].course_preferences):\n",
    "                total -= students[student_dict[courses[course_dict[pref]].tempAllocatedStudents[-1].roll]].temp_score\n",
    "                courses[course_dict[pref]].popularityIndex += students[student_dict[courses[course_dict[pref]].tempAllocatedStudents[-1].roll]].temp_score / students[student_dict[courses[course_dict[pref]].tempAllocatedStudents[-1].roll]].desired_n\n",
    "                unlucky_student = courses[course_dict[pref]].remove_last()\n",
    "                unassigned_students.append(student_dict[unlucky_student])\n",
    "                courses[course_dict[pref]].add_student(students[lucky_student])\n",
    "                unassigned_students.remove(lucky_student)\n",
    "                total += students[lucky_student].temp_score\n",
    "                break\n",
    "            elif len(courses[course_dict[pref]].tempAllocatedStudents) > 0 and len(courses[course_dict[pref]].tempAllocatedStudents[-1].course_preferences) == len(students[lucky_student].course_preferences) and random.choice([0, 1]) == 1:\n",
    "                total -= students[student_dict[courses[course_dict[pref]].tempAllocatedStudents[-1].roll]].temp_score\n",
    "                courses[course_dict[pref]].popularityIndex += students[student_dict[courses[course_dict[pref]].tempAllocatedStudents[-1].roll]].temp_score / students[student_dict[courses[course_dict[pref]].tempAllocatedStudents[-1].roll]].desired_n\n",
    "                unlucky_student = courses[course_dict[pref]].remove_last()\n",
    "                unassigned_students.append(student_dict[unlucky_student])\n",
    "                courses[course_dict[pref]].add_student(students[lucky_student])\n",
    "                unassigned_students.remove(lucky_student)\n",
    "                total += students[lucky_student].temp_score\n",
    "                break\n",
    "        epoch += 1\n",
    "        if epoch%50 == 0:\n",
    "            print(f'#{epoch} epoch: Satisfaction score = {total}')\n",
    "    for course in courses_in_consideration:\n",
    "        courses[course].fixate()\n",
    "    unassigned_students = [i for i in students_in_consideration if (students[i].desired_n > students[i].actual_n <= f+1) and len(students[i].course_preferences) > 0]\n",
    "    f += 1\n",
    "    print()"
   ],
   "metadata": {
    "collapsed": false
   },
   "id": "5bcbe4bd4192a634",
   "execution_count": null
  },
  {
   "cell_type": "code",
   "outputs": [],
   "source": [
    "for stud in students_in_consideration:\n",
    "    print(students[stud])"
   ],
   "metadata": {
    "collapsed": false
   },
   "id": "219fbd9f31ad5cbc",
   "execution_count": null
  },
  {
   "cell_type": "code",
   "outputs": [],
   "source": [
    "for c in courses_in_consideration:\n",
    "    print(courses[c])"
   ],
   "metadata": {
    "collapsed": false
   },
   "id": "314516d0e8e71e31",
   "execution_count": null
  },
  {
   "cell_type": "markdown",
   "source": [
    "## PhD Students in HSS allocation"
   ],
   "metadata": {
    "collapsed": false
   },
   "id": "ee53d250028ddb8d"
  },
  {
   "cell_type": "code",
   "outputs": [],
   "source": [
    "pc = [(i, column) for i, column in enumerate(phd_stud.columns) if column.startswith('Indicate the priority for your choice of courses')]\n",
    "courses_in_consideration = [course_dict[course.code] for course in courses]\n",
    "course_columns = [[] for _ in range(len(courses_in_consideration))]\n",
    "for ind, course in enumerate(courses_in_consideration):\n",
    "    course_columns[ind] = [i[0] for i in pc if courses[course].code+' ' in ' '.join(i[1].split())]\n",
    "students_in_consideration = [student_dict[str(entry[4])] for entry in phd_stud.values]\n",
    "rem = []\n",
    "for ind, entry in enumerate(phd_stud.values):\n",
    "    pref = ['*' for _ in range(6)]\n",
    "    for course, column_names in zip(courses_in_consideration, course_columns):\n",
    "        for cn in column_names:\n",
    "            if pd.notna(entry[cn]):\n",
    "                pref[int(entry[cn].split()[-1]) - 1] = courses[course].code\n",
    "    pref = [_ for _ in pref if _ != '*']\n",
    "    pref = [_ for _ in pref if courses[course_dict[_]] not in students[student_dict[str(entry[4])]].allocated_courses]\n",
    "    if len(pref)==0:\n",
    "        students_in_consideration.remove(student_dict[str(entry[4])])\n",
    "        rem.append(phd_stud.index[ind])\n",
    "    else:\n",
    "        students[student_dict[str(entry[4])]].course_preferences = copy.copy(pref)\n",
    "        students[student_dict[str(entry[4])]].desired_n = max(0 if pd.isna(entry[12]) else int(entry[12]), 0 if pd.isna(entry[59]) else int(entry[59]))\n",
    "phd_stud.drop(rem, axis = 0, inplace=True)\n",
    "display(phd_stud)\n",
    "\n",
    "for stud in students_in_consideration:\n",
    "    while len(students[stud].course_preferences) > 0 and students[stud].actual_n<students[stud].desired_n:\n",
    "        courses[course_dict[students[stud].course_preferences[0]]].add_super_student(students[stud])"
   ],
   "metadata": {
    "collapsed": false
   },
   "id": "9d7a3ad4ce3430d7",
   "execution_count": null
  },
  {
   "cell_type": "code",
   "outputs": [],
   "source": [
    "for stud in students_in_consideration:\n",
    "    print(students[stud])"
   ],
   "metadata": {
    "collapsed": false
   },
   "id": "641f1e86050d10ef",
   "execution_count": null
  },
  {
   "cell_type": "code",
   "outputs": [],
   "source": [
    "for c in courses_in_consideration:\n",
    "    print(courses[c])"
   ],
   "metadata": {
    "collapsed": false
   },
   "id": "8d855a6c5a1eefc6",
   "execution_count": null
  },
  {
   "cell_type": "markdown",
   "source": [
    "## Saving as files"
   ],
   "metadata": {
    "collapsed": false
   },
   "id": "70532c96a874be09"
  },
  {
   "cell_type": "code",
   "outputs": [],
   "source": [
    "output = pd.DataFrame(data[['Email Address', 'First Name', 'Last Name', 'Roll No', 'Alternate Email id', 'Discipline', 'Year of joining the current programme', 'Programme']])\n",
    "al_courses = []\n",
    "for roll in output['Roll No']:\n",
    "    al_courses.append(list(map(lambda x: x.code, students[student_dict[str(roll)]].allocated_courses)))\n",
    "output['Allocated Courses'] = pd.Series(al_courses).values\n",
    "output.to_csv('output_data/StudentWiseAllocation.csv')"
   ],
   "metadata": {
    "collapsed": false
   },
   "id": "92abe01802160528",
   "execution_count": null
  },
  {
   "cell_type": "code",
   "outputs": [],
   "source": [
    "coutput = pd.read_csv('input_data/courses.csv')[['Code', 'Name']]\n",
    "al_stud = []\n",
    "al_n = []\n",
    "al_sn = []\n",
    "for code in coutput['Code']:\n",
    "    al_stud.append(list(map(lambda x: x.roll, courses[course_dict[code]].permAllocatedStudents)))\n",
    "    al_n.append(courses[course_dict[code]].cap-courses[course_dict[code]].r_cap+courses[course_dict[code]].sn)\n",
    "    al_sn.append(courses[course_dict[code]].sn)\n",
    "coutput['Number of allocated Students'] = pd.Series(al_n).values\n",
    "coutput['Number of supernumerary Students'] = pd.Series(al_sn).values\n",
    "coutput['Allocated Students'] = pd.Series(al_stud).values\n",
    "coutput.to_csv('output_data/CourseWiseAllocation.csv')"
   ],
   "metadata": {
    "collapsed": false
   },
   "id": "de1a1e8f49494c9c",
   "execution_count": null
  },
  {
   "cell_type": "markdown",
   "source": [
    "## Student Satisfaction Scores"
   ],
   "metadata": {
    "collapsed": false
   },
   "id": "d4ac4dcc9fdd1e0c"
  },
  {
   "cell_type": "code",
   "outputs": [],
   "source": [
    "mini = maxi = students[0].score\n",
    "total = 0\n",
    "for stud in students:\n",
    "    print(f'{stud.roll}\\t{stud.name}\\t{stud.score}')\n",
    "    mini = min(mini, stud.score)\n",
    "    maxi = max(maxi, stud.score)\n",
    "    total += stud.score\n",
    "print()\n",
    "print(f'{total}\\n{mini}\\n{maxi}')"
   ],
   "metadata": {
    "collapsed": false
   },
   "id": "af56f11109e3b7b",
   "execution_count": null
  },
  {
   "cell_type": "markdown",
   "source": [
    "## Courses Popularity Index"
   ],
   "metadata": {
    "collapsed": false
   },
   "id": "58ee8f70ff307f05"
  },
  {
   "cell_type": "code",
   "outputs": [],
   "source": [
    "sorted_courses = courses.copy()\n",
    "sorted_courses.sort(key=lambda x:x.popularityIndex, reverse=True)\n",
    "print(*sorted_courses, sep='\\n\\n')"
   ],
   "metadata": {
    "collapsed": false
   },
   "id": "37b35550ec56a939",
   "execution_count": null
  },
  {
   "cell_type": "code",
   "execution_count": null,
   "outputs": [],
   "source": [
    "students[student_dict['19110206']]"
   ],
   "metadata": {
    "collapsed": false
   }
  },
  {
   "cell_type": "code",
   "execution_count": null,
   "outputs": [],
   "source": [],
   "metadata": {
    "collapsed": false
   }
  }
 ],
 "metadata": {
  "kernelspec": {
   "display_name": "Python 3",
   "language": "python",
   "name": "python3"
  },
  "language_info": {
   "codemirror_mode": {
    "name": "ipython",
    "version": 2
   },
   "file_extension": ".py",
   "mimetype": "text/x-python",
   "name": "python",
   "nbconvert_exporter": "python",
   "pygments_lexer": "ipython2",
   "version": "2.7.6"
  }
 },
 "nbformat": 4,
 "nbformat_minor": 5
}
